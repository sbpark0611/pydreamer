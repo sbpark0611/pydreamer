{
 "cells": [
  {
   "cell_type": "code",
   "execution_count": null,
   "metadata": {},
   "outputs": [],
   "source": [
    "import os\n",
    "import pandas as pd\n",
    "import mlflow\n",
    "from mlflow.tracking import MlflowClient\n",
    "\n",
    "ACTION_REPEAT = 4\n",
    "\n",
    "def load_runs(experiment_id, query):\n",
    "    df = mlflow.search_runs(experiment_id, f'tags.mlflow.runName like \"{query}\"')\n",
    "    df[\"id\"] = df[\"run_id\"]\n",
    "    df[\"run\"] = df[\"tags.mlflow.runName\"]\n",
    "    df = df.sort_values(\"start_time\")\n",
    "    df['run'] = df[\"run\"].str.cat(df.groupby(\"run\").cumcount().apply(lambda i: f'_{i}'))  # deduplicate run\n",
    "    df[\"env\"] = df[\"params.env_id\"].str.lower().str.replace('-', '_')\n",
    "    df = df[[\"id\", \"run\", \"env\"]].sort_values(\"run\")\n",
    "    return df\n",
    "\n",
    "def mlflow_get_metrics(run_id, metric, value_column='y', x_bucket=1):\n",
    "    hist = MlflowClient().get_metric_history(run_id, metric)\n",
    "    df = pd.DataFrame({\n",
    "        'x': [(m.step // x_bucket + 1) * x_bucket for m in hist],\n",
    "        value_column: [m.value for m in hist],\n",
    "    })\n",
    "    return df\n",
    "\n",
    "def load_run_metrics(run, x_bucket, metrics={'return': 'agent/return'}):\n",
    "    run_id = run['id']\n",
    "    df = None\n",
    "    for k, v in metrics.items():\n",
    "        df1 = mlflow_get_metrics(run_id, v, k, x_bucket).groupby('x').mean()\n",
    "        df = df1 if df is None else df.combine_first(df1)\n",
    "\n",
    "    df = df.reset_index().rename(columns={'x': 'train_steps'})\n",
    "    if 'agent_steps' in df:\n",
    "        df['env_steps'] = df['agent_steps'] * ACTION_REPEAT\n",
    "    df['env'] = run['env']\n",
    "    df['run'] = run['run']\n",
    "    df = df[~df['env_steps'].isna()]\n",
    "    return df\n"
   ]
  },
  {
   "cell_type": "code",
   "execution_count": null,
   "metadata": {},
   "outputs": [],
   "source": [
    "EXPERIMENT_ID = 1  # atari\n",
    "XBIN = 2000\n",
    "\n",
    "data_runs = df = load_runs(EXPERIMENT_ID, '%')\n",
    "metrics = {\n",
    "    'return': 'agent/return',\n",
    "    'agent_steps': 'train/data_steps',\n",
    "}\n",
    "for i, run in data_runs.iterrows():\n",
    "    df = load_run_metrics(run, XBIN, metrics)\n",
    "    df.round(1).to_csv(f'runs/{run[\"run\"]}.csv', index=False)"
   ]
  },
  {
   "cell_type": "code",
   "execution_count": null,
   "metadata": {},
   "outputs": [],
   "source": []
  }
 ],
 "metadata": {
  "interpreter": {
   "hash": "5edc5171bde170568d9b218d33d0e3dc4de16dbdd983c2ff34b21341823ff124"
  },
  "kernelspec": {
   "display_name": "Python 3.8.5 64-bit ('pydreamer': conda)",
   "name": "python3"
  },
  "language_info": {
   "codemirror_mode": {
    "name": "ipython",
    "version": 3
   },
   "file_extension": ".py",
   "mimetype": "text/x-python",
   "name": "python",
   "nbconvert_exporter": "python",
   "pygments_lexer": "ipython3",
   "version": "3.8.5"
  },
  "orig_nbformat": 4
 },
 "nbformat": 4,
 "nbformat_minor": 2
}
