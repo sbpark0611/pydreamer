{
 "cells": [
  {
   "cell_type": "code",
   "execution_count": null,
   "metadata": {},
   "outputs": [],
   "source": [
    "from typing import Dict\n",
    "import tempfile\n",
    "from pathlib import Path\n",
    "import numpy as np\n",
    "from mlflow.tracking import MlflowClient\n",
    "\n",
    "FPS = 10\n",
    "B, T = 5, 50\n",
    "\n",
    "def download_artifact_npz(run_id, artifact_path) -> Dict[str, np.ndarray]:\n",
    "    client = MlflowClient()\n",
    "    with tempfile.TemporaryDirectory() as tmpdir:\n",
    "        path = client.download_artifacts(run_id, artifact_path, tmpdir)\n",
    "        with Path(path).open('rb') as f:\n",
    "            data = np.load(f)\n",
    "            return {k: data[k] for k in data.keys()}  # type: ignore\n",
    "\n",
    "def encode_gif(frames, fps):\n",
    "    # Copyright Danijar\n",
    "    from subprocess import Popen, PIPE\n",
    "    h, w, c = frames[0].shape\n",
    "    pxfmt = {1: 'gray', 3: 'rgb24'}[c]\n",
    "    cmd = ' '.join([\n",
    "        'ffmpeg -y -f rawvideo -vcodec rawvideo',\n",
    "        f'-r {fps:.02f} -s {w}x{h} -pix_fmt {pxfmt} -i - -filter_complex',\n",
    "        '[0:v]split[x][z];[z]palettegen[y];[x]fifo[x];[x][y]paletteuse',\n",
    "        f'-r {fps:.02f} -f gif -'])\n",
    "    proc = Popen(cmd.split(' '), stdin=PIPE, stdout=PIPE, stderr=PIPE)\n",
    "    for image in frames:\n",
    "        proc.stdin.write(image.tobytes())  # type: ignore\n",
    "    out, err = proc.communicate()\n",
    "    if proc.returncode:\n",
    "        raise IOError('\\n'.join([' '.join(cmd), err.decode('utf8')]))\n",
    "    del proc\n",
    "    return out\n",
    "\n",
    "def make_gif(env_name, run_id, step, fps=FPS):\n",
    "    dest_path = f'figures/dream_{env_name}_{step}.gif'\n",
    "    artifact = f'd2_wm_dream/{step}.npz'\n",
    "    data = download_artifact_npz(run_id, artifact)\n",
    "    img = data['image_pred']\n",
    "    print(img.shape)\n",
    "    img = img[:B, :T].reshape((-1, 64, 64, 3))\n",
    "    gif = encode_gif(img, fps)\n",
    "    with Path(dest_path).open('wb') as f:\n",
    "        f.write(gif)"
   ]
  },
  {
   "cell_type": "code",
   "execution_count": null,
   "metadata": {},
   "outputs": [],
   "source": [
    "# Montezuma\n",
    "\n",
    "make_gif('montezuma', '599e69d178ca4f65a10423d272f9f45d', '0500001')"
   ]
  },
  {
   "cell_type": "code",
   "execution_count": null,
   "metadata": {},
   "outputs": [],
   "source": [
    "# Breakout\n",
    "\n",
    "make_gif('breakout', '83e5def4975242ccbf16a3ca8f62a674', '0500001')"
   ]
  },
  {
   "cell_type": "code",
   "execution_count": null,
   "metadata": {},
   "outputs": [],
   "source": [
    "# Space invaders\n",
    "\n",
    "make_gif('invaders', '6d57d49ab844475cbb83b606816b01fe', '0500001')"
   ]
  },
  {
   "cell_type": "code",
   "execution_count": null,
   "metadata": {},
   "outputs": [],
   "source": [
    "# DMC quadruped\n",
    "\n",
    "make_gif('quadruped', 'ff6cb24c04de4e6b821bb811c855d207', '0300001')"
   ]
  },
  {
   "cell_type": "code",
   "execution_count": null,
   "metadata": {},
   "outputs": [],
   "source": [
    "# DMLab goals small\n",
    "\n",
    "make_gif('dmlab', '6f78cce067464e8aa4bcb6f35a1a4386', '0161001', fps=8)"
   ]
  },
  {
   "cell_type": "code",
   "execution_count": null,
   "metadata": {},
   "outputs": [],
   "source": [
    "# MiniWorld ScavengerHunt\n",
    "\n",
    "make_gif('scavenger', '123b575400874f5db75ac7887f4e61c0', '0900001')"
   ]
  },
  {
   "cell_type": "code",
   "execution_count": null,
   "metadata": {},
   "outputs": [],
   "source": []
  }
 ],
 "metadata": {
  "interpreter": {
   "hash": "5edc5171bde170568d9b218d33d0e3dc4de16dbdd983c2ff34b21341823ff124"
  },
  "kernelspec": {
   "display_name": "Python 3.8.5 64-bit ('pydreamer': conda)",
   "language": "python",
   "name": "python3"
  },
  "language_info": {
   "codemirror_mode": {
    "name": "ipython",
    "version": 3
   },
   "file_extension": ".py",
   "mimetype": "text/x-python",
   "name": "python",
   "nbconvert_exporter": "python",
   "pygments_lexer": "ipython3",
   "version": "3.8.5"
  },
  "orig_nbformat": 4
 },
 "nbformat": 4,
 "nbformat_minor": 2
}
